{
  "nbformat": 4,
  "nbformat_minor": 0,
  "metadata": {
    "colab": {
      "provenance": []
    },
    "kernelspec": {
      "name": "python3",
      "display_name": "Python 3"
    },
    "language_info": {
      "name": "python"
    }
  },
  "cells": [
    {
      "cell_type": "code",
      "execution_count": 64,
      "metadata": {
        "id": "j4Gh9fJabaAx"
      },
      "outputs": [],
      "source": [
        "import numpy as np\n",
        "import matplotlib.pyplot as plt\n",
        "import pandas as pd"
      ]
    },
    {
      "cell_type": "code",
      "source": [
        "dataset = pd.read_csv('dataset_country.csv', delimiter=';')\n",
        "x = dataset.iloc[:, :-1].values\n",
        "y = dataset.iloc[:, -1].values"
      ],
      "metadata": {
        "id": "CrMWjz_1bnFE"
      },
      "execution_count": 65,
      "outputs": []
    },
    {
      "cell_type": "code",
      "source": [
        "print (x)"
      ],
      "metadata": {
        "colab": {
          "base_uri": "https://localhost:8080/"
        },
        "id": "CFjKi0d2bwM8",
        "outputId": "7375a7b2-a5b4-43e5-ba3c-8ba3dbcf5e46"
      },
      "execution_count": 66,
      "outputs": [
        {
          "output_type": "stream",
          "name": "stdout",
          "text": [
            "[['Belgium' 40.0 45000.0]\n",
            " ['Cambodia' 56.0 56000.0]\n",
            " ['Blgium' 36.0 nan]\n",
            " ['France' nan 18000.0]\n",
            " ['Belgium' 24.0 39000.0]\n",
            " ['Belgium' 55.0 47000.0]\n",
            " ['Cambodia' 35.0 22000.0]\n",
            " ['France' 70.0 42000.0]]\n"
          ]
        }
      ]
    },
    {
      "cell_type": "code",
      "source": [
        "print (y)"
      ],
      "metadata": {
        "colab": {
          "base_uri": "https://localhost:8080/"
        },
        "id": "H-JiSUupbx88",
        "outputId": "a7900e7e-b581-4f94-bad3-c985fe1fbf76"
      },
      "execution_count": 67,
      "outputs": [
        {
          "output_type": "stream",
          "name": "stdout",
          "text": [
            "['No' 'Yes' 'No' 'Yes' 'Yes' 'No' 'No' 'Yes']\n"
          ]
        }
      ]
    },
    {
      "cell_type": "code",
      "source": [
        "from sklearn.impute import SimpleImputer\n",
        "imputer = SimpleImputer(missing_values=np.nan, strategy='mean')\n",
        "imputer.fit(x[:, 1:3])\n",
        "x[:, 1:3] = imputer.transform(x[:, 1:3])"
      ],
      "metadata": {
        "id": "6-ExnNiJb0Dk"
      },
      "execution_count": 68,
      "outputs": []
    },
    {
      "cell_type": "code",
      "source": [
        "print (x)"
      ],
      "metadata": {
        "colab": {
          "base_uri": "https://localhost:8080/"
        },
        "id": "O1dXcHKyb3XF",
        "outputId": "8a5dd472-c7c4-43e3-e82f-3d7dcc372c79"
      },
      "execution_count": 69,
      "outputs": [
        {
          "output_type": "stream",
          "name": "stdout",
          "text": [
            "[['Belgium' 40.0 45000.0]\n",
            " ['Cambodia' 56.0 56000.0]\n",
            " ['Blgium' 36.0 38428.57142857143]\n",
            " ['France' 45.142857142857146 18000.0]\n",
            " ['Belgium' 24.0 39000.0]\n",
            " ['Belgium' 55.0 47000.0]\n",
            " ['Cambodia' 35.0 22000.0]\n",
            " ['France' 70.0 42000.0]]\n"
          ]
        }
      ]
    },
    {
      "cell_type": "code",
      "source": [
        "from sklearn.compose import ColumnTransformer\n",
        "from sklearn.preprocessing import OneHotEncoder\n",
        "\n",
        "ct = ColumnTransformer(transformers=[('encoder', OneHotEncoder(), [0])], remainder='passthrough')\n",
        "x = np.array(ct.fit_transform(x))"
      ],
      "metadata": {
        "id": "RRvh1uzEb5Ut"
      },
      "execution_count": 70,
      "outputs": []
    },
    {
      "cell_type": "code",
      "source": [
        "print (x)"
      ],
      "metadata": {
        "colab": {
          "base_uri": "https://localhost:8080/"
        },
        "id": "ZqvkLWgLb7aN",
        "outputId": "485091b2-5e29-4d01-e65e-d6eb4475c454"
      },
      "execution_count": 71,
      "outputs": [
        {
          "output_type": "stream",
          "name": "stdout",
          "text": [
            "[[1.0 0.0 0.0 0.0 40.0 45000.0]\n",
            " [0.0 0.0 1.0 0.0 56.0 56000.0]\n",
            " [0.0 1.0 0.0 0.0 36.0 38428.57142857143]\n",
            " [0.0 0.0 0.0 1.0 45.142857142857146 18000.0]\n",
            " [1.0 0.0 0.0 0.0 24.0 39000.0]\n",
            " [1.0 0.0 0.0 0.0 55.0 47000.0]\n",
            " [0.0 0.0 1.0 0.0 35.0 22000.0]\n",
            " [0.0 0.0 0.0 1.0 70.0 42000.0]]\n"
          ]
        }
      ]
    },
    {
      "cell_type": "code",
      "source": [
        "from sklearn.preprocessing import LabelEncoder\n",
        "le = LabelEncoder()\n",
        "y = le.fit_transform(y)"
      ],
      "metadata": {
        "id": "vUYGRozXb9Rl"
      },
      "execution_count": 72,
      "outputs": []
    },
    {
      "cell_type": "code",
      "source": [
        "print(y)"
      ],
      "metadata": {
        "colab": {
          "base_uri": "https://localhost:8080/"
        },
        "id": "PApWQaRDcAO1",
        "outputId": "9683e37e-1c14-46cb-e561-4b260cd33240"
      },
      "execution_count": 73,
      "outputs": [
        {
          "output_type": "stream",
          "name": "stdout",
          "text": [
            "[0 1 0 1 1 0 0 1]\n"
          ]
        }
      ]
    },
    {
      "cell_type": "code",
      "source": [
        "from sklearn.model_selection import train_test_split\n",
        "x_train, x_test, y_train, y_test = train_test_split(x, y, test_size = 0.2, random_state = 1)"
      ],
      "metadata": {
        "id": "IkBnk29ScCFG"
      },
      "execution_count": 74,
      "outputs": []
    },
    {
      "cell_type": "code",
      "source": [
        "print (x_train)"
      ],
      "metadata": {
        "colab": {
          "base_uri": "https://localhost:8080/"
        },
        "id": "GUOTo7QWcEDU",
        "outputId": "9fc0d66f-8aa6-40b1-9bed-670abfa73634"
      },
      "execution_count": 75,
      "outputs": [
        {
          "output_type": "stream",
          "name": "stdout",
          "text": [
            "[[0.0 0.0 1.0 0.0 56.0 56000.0]\n",
            " [0.0 0.0 1.0 0.0 35.0 22000.0]\n",
            " [1.0 0.0 0.0 0.0 40.0 45000.0]\n",
            " [1.0 0.0 0.0 0.0 24.0 39000.0]\n",
            " [0.0 0.0 0.0 1.0 45.142857142857146 18000.0]\n",
            " [1.0 0.0 0.0 0.0 55.0 47000.0]]\n"
          ]
        }
      ]
    },
    {
      "cell_type": "code",
      "source": [
        "print (x_test)"
      ],
      "metadata": {
        "colab": {
          "base_uri": "https://localhost:8080/"
        },
        "id": "k52J3jPacGMN",
        "outputId": "17451904-75b6-4b7e-9ac5-80e5ac4e211f"
      },
      "execution_count": 76,
      "outputs": [
        {
          "output_type": "stream",
          "name": "stdout",
          "text": [
            "[[0.0 0.0 0.0 1.0 70.0 42000.0]\n",
            " [0.0 1.0 0.0 0.0 36.0 38428.57142857143]]\n"
          ]
        }
      ]
    },
    {
      "cell_type": "code",
      "source": [
        "print (y_train)"
      ],
      "metadata": {
        "colab": {
          "base_uri": "https://localhost:8080/"
        },
        "id": "1ijT0yP4cINV",
        "outputId": "3293a98e-f1a3-48c6-e762-6acc4208abbe"
      },
      "execution_count": 77,
      "outputs": [
        {
          "output_type": "stream",
          "name": "stdout",
          "text": [
            "[1 0 0 1 1 0]\n"
          ]
        }
      ]
    },
    {
      "cell_type": "code",
      "source": [
        "print (y_test)"
      ],
      "metadata": {
        "colab": {
          "base_uri": "https://localhost:8080/"
        },
        "id": "vstkNEjbcKYE",
        "outputId": "1d7fa514-6930-44dd-b109-988164f6d703"
      },
      "execution_count": 78,
      "outputs": [
        {
          "output_type": "stream",
          "name": "stdout",
          "text": [
            "[1 0]\n"
          ]
        }
      ]
    },
    {
      "cell_type": "code",
      "source": [
        "from sklearn.preprocessing import StandardScaler\n",
        "sc = StandardScaler()\n",
        "x_train[:, 3:] = sc.fit_transform(x_train[:, 3:])\n",
        "x_test[:, 3:] = sc.transform(x_test[:, 3:])"
      ],
      "metadata": {
        "id": "25JRwUsOcMK8"
      },
      "execution_count": 79,
      "outputs": []
    },
    {
      "cell_type": "code",
      "source": [
        "print(x_train)"
      ],
      "metadata": {
        "colab": {
          "base_uri": "https://localhost:8080/"
        },
        "id": "tfYGtoKjcOOk",
        "outputId": "3bf0cd56-f851-450d-9c93-febd4c78ad6c"
      },
      "execution_count": 80,
      "outputs": [
        {
          "output_type": "stream",
          "name": "stdout",
          "text": [
            "[[0.0 0.0 1.0 -0.4472135954999579 1.2051613037637987 1.335138812600483]\n",
            " [0.0 0.0 1.0 -0.4472135954999579 -0.6728462402638878 -1.1636530935508802]\n",
            " [1.0 0.0 0.0 -0.4472135954999579 -0.22570158692396247 0.5267061370809244]\n",
            " [1.0 0.0 0.0 -0.4472135954999579 -1.6565644776117237 0.0857428595248015]\n",
            " [0.0 0.0 0.0 2.23606797749979 0.23421862793996104 -1.4576286119216286]\n",
            " [1.0 0.0 0.0 -0.4472135954999579 1.1157323730958137 0.6736938962662987]]\n"
          ]
        }
      ]
    },
    {
      "cell_type": "code",
      "source": [
        "print (x_test)"
      ],
      "metadata": {
        "colab": {
          "base_uri": "https://localhost:8080/"
        },
        "id": "E8WvVZVFcQQV",
        "outputId": "e303c688-5e45-4b68-e847-0533014c95d2"
      },
      "execution_count": 81,
      "outputs": [
        {
          "output_type": "stream",
          "name": "stdout",
          "text": [
            "[[0.0 0.0 0.0 2.23606797749979 2.4571663331155897 0.30622449830286297]\n",
            " [0.0 1.0 0.0 -0.4472135954999579 -0.5834173095959028 0.04374635690040876]]\n"
          ]
        }
      ]
    },
    {
      "cell_type": "code",
      "source": [
        "from sklearn.linear_model import LinearRegression\n",
        "from sklearn.metrics import r2_score, mean_squared_error\n",
        "\n",
        "regressor = LinearRegression()\n",
        "\n",
        "regressor.fit(x_train, y_train)\n",
        "\n",
        "print(\"Koefisien regresi:\", regressor.coef_)\n",
        "print(\"Intercept regresi:\", regressor.intercept_)\n"
      ],
      "metadata": {
        "colab": {
          "base_uri": "https://localhost:8080/"
        },
        "id": "XsW20hgnLArT",
        "outputId": "f8ff3a59-6f59-4790-a584-c5b059e9a981"
      },
      "execution_count": 82,
      "outputs": [
        {
          "output_type": "stream",
          "name": "stdout",
          "text": [
            "Koefisien regresi: [-4.80211506e-01 -1.24900090e-16  2.18333883e-01  7.02691401e-01\n",
            " -5.15358636e-01  7.66921650e-01]\n",
            "Intercept regresi: 0.6673277922146371\n"
          ]
        }
      ]
    },
    {
      "cell_type": "code",
      "source": [
        "print(\"Hasil Prediksi:\", y_pred)\n",
        "print(\"Nilai Asli y_test:\", y_test)"
      ],
      "metadata": {
        "colab": {
          "base_uri": "https://localhost:8080/"
        },
        "id": "krl2dn1YLi4q",
        "outputId": "a9027765-782b-4766-8f6c-0d7ead4a92f4"
      },
      "execution_count": 83,
      "outputs": [
        {
          "output_type": "stream",
          "name": "stdout",
          "text": [
            "Hasil Prediksi: [ 0.52515821 -0.57583618]\n",
            "Nilai Asli y_test: [1 0]\n"
          ]
        }
      ]
    },
    {
      "cell_type": "code",
      "source": [
        "r2 = r2_score(y_test, y_pred)\n",
        "mse = mean_squared_error(y_test, y_pred)\n",
        "\n",
        "print(f\"R² Score: {r2:.4f}\")\n",
        "print(f\"Mean Squared Error: {mse:.4f}\")"
      ],
      "metadata": {
        "colab": {
          "base_uri": "https://localhost:8080/"
        },
        "id": "PNO_sWIzLm0Z",
        "outputId": "156a2362-95b0-4ca7-8085-582806aff0a0"
      },
      "execution_count": 84,
      "outputs": [
        {
          "output_type": "stream",
          "name": "stdout",
          "text": [
            "R² Score: -0.1141\n",
            "Mean Squared Error: 0.2785\n"
          ]
        }
      ]
    },
    {
      "cell_type": "code",
      "source": [
        "plt.figure(figsize=(8,5))\n",
        "plt.scatter(y_test, y_pred, color='blue', label='Prediksi vs Asli')\n",
        "plt.plot([y_test.min(), y_test.max()], [y_test.min(), y_test.max()], 'r--', lw=2, label='Ideal')\n",
        "plt.xlabel('Nilai Asli')\n",
        "plt.ylabel('Nilai Prediksi')\n",
        "plt.title('Hasil Regresi Linier')\n",
        "plt.legend()\n",
        "plt.grid(True)\n",
        "plt.show()"
      ],
      "metadata": {
        "colab": {
          "base_uri": "https://localhost:8080/",
          "height": 487
        },
        "id": "gWk7Ej8tLp6a",
        "outputId": "e5d0c723-9bb5-462e-9e7e-690dc9502bcf"
      },
      "execution_count": 85,
      "outputs": [
        {
          "output_type": "display_data",
          "data": {
            "text/plain": [
              "<Figure size 800x500 with 1 Axes>"
            ],
            "image/png": "[encoded data removed]"
          },
          "metadata": {}
        }
      ]
    }
  ]
}